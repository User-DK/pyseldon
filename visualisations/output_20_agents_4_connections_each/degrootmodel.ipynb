{
 "cells": [
  {
   "cell_type": "markdown",
   "metadata": {},
   "source": [
    "### Import the package"
   ]
  },
  {
   "cell_type": "code",
   "execution_count": 7,
   "metadata": {},
   "outputs": [],
   "source": [
    "import pyseldon"
   ]
  },
  {
   "cell_type": "markdown",
   "metadata": {},
   "source": [
    "### Initialize some other settings"
   ]
  },
  {
   "cell_type": "code",
   "execution_count": 8,
   "metadata": {},
   "outputs": [],
   "source": [
    "other_settings = pyseldon.Other_Settings(n_output_agents=1,\n",
    "                                         n_output_network= None, \n",
    "                                         print_progress= True, \n",
    "                                         output_initial=True, \n",
    "                                         start_output=1, \n",
    "                                         number_of_agents = 20, \n",
    "                                         connections_per_agent = 4)"
   ]
  },
  {
   "cell_type": "markdown",
   "metadata": {},
   "source": [
    "### Initialize the model with parameters."
   ]
  },
  {
   "cell_type": "code",
   "execution_count": 9,
   "metadata": {},
   "outputs": [
    {
     "name": "stdout",
     "output_type": "stream",
     "text": [
      "Output directory path set to: /home/parrot_user/Desktop/pyseldon/examples/output_20_agents_4_connections_each/ouput_20_agents\n",
      "\n",
      "WARNING: You have 3 strongly connected components in your network!\n",
      "Random seed: 120\n",
      "[Model]\n",
      "    type DeGroot\n",
      "    max_iterations optional(1000)\n",
      "    convergence_tol 1e-06\n",
      "[Network]\n",
      "    n_agents 20\n",
      "    n_connections 4\n",
      "[Output]\n",
      "    n_output_agents  optional(1)\n",
      "    n_output_network none\n",
      "    print_progress true\n",
      "    output_initial true\n",
      "    start_output 1\n",
      "    start_numbering_from 0\n",
      "-----------------------------------------------------------------\n",
      "Starting simulation\n",
      "-----------------------------------------------------------------\n",
      "Iteration 1   iter_time = 00h 00m 00.000s \n",
      "Iteration 2   iter_time = 00h 00m 00.000s \n",
      "Iteration 3   iter_time = 00h 00m 00.000s \n",
      "Iteration 4   iter_time = 00h 00m 00.000s \n",
      "Iteration 5   iter_time = 00h 00m 00.000s \n",
      "Iteration 6   iter_time = 00h 00m 00.000s \n",
      "Iteration 7   iter_time = 00h 00m 00.000s \n",
      "Iteration 8   iter_time = 00h 00m 00.000s \n",
      "Iteration 9   iter_time = 00h 00m 00.000s \n",
      "Iteration 10   iter_time = 00h 00m 00.000s \n",
      "Iteration 11   iter_time = 00h 00m 00.000s \n",
      "Iteration 12   iter_time = 00h 00m 00.000s \n",
      "Iteration 13   iter_time = 00h 00m 00.000s \n",
      "Iteration 14   iter_time = 00h 00m 00.000s \n",
      "Iteration 15   iter_time = 00h 00m 00.000s \n",
      "Iteration 16   iter_time = 00h 00m 00.000s \n",
      "Iteration 17   iter_time = 00h 00m 00.000s \n",
      "Iteration 18   iter_time = 00h 00m 00.000s \n",
      "Iteration 19   iter_time = 00h 00m 00.000s \n",
      "Iteration 20   iter_time = 00h 00m 00.000s \n",
      "-----------------------------------------------------------------\n",
      "Finished after 20 iterations, total time = 00h 00m 00.001s\n",
      "=================================================================\n"
     ]
    }
   ],
   "source": [
    "model = pyseldon.DeGroot_Model(max_iterations=1000,\n",
    "                               convergence_tol=1e-6,\n",
    "                               rng_seed=120, \n",
    "                               other_settings=other_settings)\n",
    "\n",
    "model.run('./ouput_20_agents')"
   ]
  }
 ],
 "metadata": {
  "kernelspec": {
   "display_name": "Python 3",
   "language": "python",
   "name": "python3"
  },
  "language_info": {
   "codemirror_mode": {
    "name": "ipython",
    "version": 3
   },
   "file_extension": ".py",
   "mimetype": "text/x-python",
   "name": "python",
   "nbconvert_exporter": "python",
   "pygments_lexer": "ipython3",
   "version": "3.12.4"
  }
 },
 "nbformat": 4,
 "nbformat_minor": 2
}
