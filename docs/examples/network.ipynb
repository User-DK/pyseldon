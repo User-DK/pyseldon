{
 "cells": [
  {
   "cell_type": "markdown",
   "metadata": {},
   "source": [
    "# Example Usage of the Network Class from the pyseldonlib Package"
   ]
  },
  {
   "cell_type": "code",
   "execution_count": 24,
   "metadata": {},
   "outputs": [],
   "source": [
    "# Import necessary modules\n",
    "import pyseldonlib"
   ]
  },
  {
   "cell_type": "code",
   "execution_count": 25,
   "metadata": {},
   "outputs": [],
   "source": [
    "# Initialize the Network object\n",
    "network = pyseldonlib.Network(\n",
    "    model_string=\"DeGroot\",\n",
    "    neighbour_list=[[1, 2], [0, 2], [0, 1], [4], [3]],\n",
    "    weight_list=[[0.5, 0.5], [0.5, 0.5], [0.5, 0.5], [1], [1]],\n",
    "    direction=\"Incoming\"\n",
    ")"
   ]
  },
  {
   "cell_type": "code",
   "execution_count": 26,
   "metadata": {},
   "outputs": [
    {
     "name": "stdout",
     "output_type": "stream",
     "text": [
      "Number of agents: 5\n",
      "Edges of 1st index agent: 2\n",
      "Direction: Incoming\n",
      "Neighbour List: [0, 2]\n",
      "Weight List: [0.5, 0.5]\n"
     ]
    }
   ],
   "source": [
    "# Print the network details\n",
    "print(f\"Number of agents: {network.n_agents}\")\n",
    "print(f\"Edges of 1st index agent: {network.n_edges(1)}\")\n",
    "print(f\"Direction: {network.get_direction}\")\n",
    "print(f\"Neighbour List: {network.get_neighbours(1)}\")\n",
    "print(f\"Weight List: {network.get_weights(1)}\")"
   ]
  }
 ],
 "metadata": {
  "kernelspec": {
   "display_name": "Python 3",
   "language": "python",
   "name": "python3"
  },
  "language_info": {
   "codemirror_mode": {
    "name": "ipython",
    "version": 3
   },
   "file_extension": ".py",
   "mimetype": "text/x-python",
   "name": "python",
   "nbconvert_exporter": "python",
   "pygments_lexer": "ipython3",
   "version": "3.12.5"
  }
 },
 "nbformat": 4,
 "nbformat_minor": 2
}
