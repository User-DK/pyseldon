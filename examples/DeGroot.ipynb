{
 "cells": [
  {
   "cell_type": "code",
   "execution_count": 29,
   "metadata": {},
   "outputs": [],
   "source": [
    "import pyseldon.seldoncore as pd\n",
    "import os"
   ]
  },
  {
   "cell_type": "markdown",
   "metadata": {},
   "source": [
    "Set Output settings"
   ]
  },
  {
   "cell_type": "code",
   "execution_count": 30,
   "metadata": {},
   "outputs": [
    {
     "name": "stdout",
     "output_type": "stream",
     "text": [
      "n_output_agents: 1\n",
      "n_output_network: 20\n",
      "print_progress: True\n",
      "output_initial: True\n",
      "start_output: 1\n",
      "start_numbering_from: 0\n"
     ]
    }
   ],
   "source": [
    "op_settings = pd.OutputSettings(n_output_network = 20, n_output_agents = 1, print_progress = True, output_initial = True, start_output = 1, start_numbering_from = 0)\n",
    "op_settings.print_settings"
   ]
  },
  {
   "cell_type": "markdown",
   "metadata": {},
   "source": [
    "Set DeGroot Settings"
   ]
  },
  {
   "cell_type": "code",
   "execution_count": 31,
   "metadata": {},
   "outputs": [
    {
     "name": "stdout",
     "output_type": "stream",
     "text": [
      "max_iterations: 20\n",
      "convergence_tol: 0.001\n"
     ]
    }
   ],
   "source": [
    "degroot_settings = pd.DeGrootSettings(20, 1e-3)\n",
    "degroot_settings.print_settings"
   ]
  },
  {
   "cell_type": "markdown",
   "metadata": {},
   "source": [
    "Set Initial Network"
   ]
  },
  {
   "cell_type": "code",
   "execution_count": 32,
   "metadata": {},
   "outputs": [
    {
     "name": "stdout",
     "output_type": "stream",
     "text": [
      "file: None\n",
      "number_of_agents: 300\n",
      "connections_per_agent: 10\n"
     ]
    }
   ],
   "source": [
    "net_settings = pd.InitialNetworkSettings(number_of_agents = 300, connections_per_agent = 10)\n",
    "net_settings.print_settings"
   ]
  },
  {
   "cell_type": "markdown",
   "metadata": {},
   "source": [
    "Make Simulation Options"
   ]
  },
  {
   "cell_type": "code",
   "execution_count": 33,
   "metadata": {},
   "outputs": [],
   "source": [
    "sim_options = pd.SimulationOptions(model_string = \"DeGroot\", model_settings = degroot_settings, output_settings = op_settings, network_settings = net_settings)\n",
    "# sim_options.print_settings\n",
    "# print(sim_options.model_string)\n",
    "# sim_options.model_settings.print_settings\n",
    "# sim_options.output_settings.print_settings\n",
    "# sim_options.network_settings.print_settings"
   ]
  },
  {
   "cell_type": "code",
   "execution_count": 34,
   "metadata": {},
   "outputs": [
    {
     "name": "stdout",
     "output_type": "stream",
     "text": [
      "Random seed: -1431204504\n",
      "[Model]\n",
      "    type DeGroot\n",
      "    max_iterations optional(20)\n",
      "    convergence_tol 0.001\n",
      "[Network]\n",
      "    n_agents 300\n",
      "    n_connections 10\n",
      "[Output]\n",
      "    n_output_agents  optional(1)\n",
      "    n_output_network optional(20)\n",
      "    print_progress true\n",
      "    output_initial true\n",
      "    start_output 1\n",
      "    start_numbering_from 0\n"
     ]
    }
   ],
   "source": [
    "simulation = pd.Simulation(sim_options)"
   ]
  },
  {
   "cell_type": "code",
   "execution_count": 35,
   "metadata": {},
   "outputs": [
    {
     "name": "stdout",
     "output_type": "stream",
     "text": [
      "<class 'pyseldon.seldoncore.SimpleAgentNetwork'>\n"
     ]
    },
    {
     "ename": "AttributeError",
     "evalue": "'pyseldon.seldoncore.SimpleAgentNetwork' object has no attribute 'get_agents_data'",
     "output_type": "error",
     "traceback": [
      "\u001b[0;31m---------------------------------------------------------------------------\u001b[0m",
      "\u001b[0;31mAttributeError\u001b[0m                            Traceback (most recent call last)",
      "Cell \u001b[0;32mIn[35], line 3\u001b[0m\n\u001b[1;32m      1\u001b[0m network \u001b[38;5;241m=\u001b[39m simulation\u001b[38;5;241m.\u001b[39mnetwork\n\u001b[1;32m      2\u001b[0m \u001b[38;5;28mprint\u001b[39m(\u001b[38;5;28mtype\u001b[39m(network))\n\u001b[0;32m----> 3\u001b[0m \u001b[38;5;28mprint\u001b[39m(\u001b[43mnetwork\u001b[49m\u001b[38;5;241;43m.\u001b[39;49m\u001b[43mget_agents_data\u001b[49m())\n",
      "\u001b[0;31mAttributeError\u001b[0m: 'pyseldon.seldoncore.SimpleAgentNetwork' object has no attribute 'get_agents_data'"
     ]
    }
   ],
   "source": [
    "network = simulation.network\n",
    "# print(type(network))\n",
    "# print(network.get_agents_data())"
   ]
  },
  {
   "cell_type": "code",
   "execution_count": null,
   "metadata": {},
   "outputs": [
    {
     "ename": "AttributeError",
     "evalue": "'list' object has no attribute 'opinion'",
     "output_type": "error",
     "traceback": [
      "\u001b[0;31m---------------------------------------------------------------------------\u001b[0m",
      "\u001b[0;31mAttributeError\u001b[0m                            Traceback (most recent call last)",
      "Cell \u001b[0;32mIn[28], line 2\u001b[0m\n\u001b[1;32m      1\u001b[0m data \u001b[38;5;241m=\u001b[39m network\u001b[38;5;241m.\u001b[39magent\n\u001b[0;32m----> 2\u001b[0m \u001b[38;5;28mprint\u001b[39m(\u001b[43mdata\u001b[49m\u001b[38;5;241;43m.\u001b[39;49m\u001b[43mopinion\u001b[49m)\n\u001b[1;32m      3\u001b[0m simulation\u001b[38;5;241m.\u001b[39mrun()\n",
      "\u001b[0;31mAttributeError\u001b[0m: 'list' object has no attribute 'opinion'"
     ]
    }
   ],
   "source": [
    "\n",
    "simulation.run()"
   ]
  },
  {
   "cell_type": "code",
   "execution_count": null,
   "metadata": {},
   "outputs": [
    {
     "name": "stdout",
     "output_type": "stream",
     "text": [
      "0.4957239000548984\n"
     ]
    }
   ],
   "source": []
  }
 ],
 "metadata": {
  "kernelspec": {
   "display_name": "Python 3",
   "language": "python",
   "name": "python3"
  },
  "language_info": {
   "codemirror_mode": {
    "name": "ipython",
    "version": 3
   },
   "file_extension": ".py",
   "mimetype": "text/x-python",
   "name": "python",
   "nbconvert_exporter": "python",
   "pygments_lexer": "ipython3",
   "version": "3.12.4"
  }
 },
 "nbformat": 4,
 "nbformat_minor": 2
}
