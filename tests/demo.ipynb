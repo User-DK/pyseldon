{
 "cells": [
  {
   "cell_type": "code",
   "execution_count": 1,
   "metadata": {},
   "outputs": [],
   "source": [
    "import pyseldon.seldoncore as pd"
   ]
  },
  {
   "cell_type": "code",
   "execution_count": 2,
   "metadata": {},
   "outputs": [
    {
     "name": "stdout",
     "output_type": "stream",
     "text": [
      "Using Output Settings\n",
      "n_output_agents      : 1 (Int)\n",
      "n_output_network     : 20 (Int)\n",
      "print_progress       : True\n",
      "output_initial       : True\n",
      "start_output         : 1\n",
      "start_numbering_from : 0\n",
      "Which can be changed using the OutputSettings Instance\n"
     ]
    }
   ],
   "source": [
    "opset = pd.OutputSettings(n_output_network = 20,n_output_agents = 1, print_progress = True, output_initial = True, start_output = 1, start_numbering_from = 0)"
   ]
  },
  {
   "cell_type": "code",
   "execution_count": 3,
   "metadata": {},
   "outputs": [
    {
     "name": "stdout",
     "output_type": "stream",
     "text": [
      "Using DeGroot Settings\n",
      "max_iterations    : 20 (Int)\n",
      "convergence_tol  : 0.001\n",
      "Which can be changed using the DeGrootSettings instance\n"
     ]
    }
   ],
   "source": [
    "degroot_settings = pd.DeGrootSettings(20, 1e-3)"
   ]
  },
  {
   "cell_type": "code",
   "execution_count": 4,
   "metadata": {},
   "outputs": [
    {
     "name": "stdout",
     "output_type": "stream",
     "text": [
      "Using Initial Network Settings\n",
      "file            : None (String)\n",
      "n_agents        : 300 (Int)\n",
      "n_connections   : 10 (Int)\n",
      "Which can be changed using the InitialNetworkSettings instance\n"
     ]
    }
   ],
   "source": [
    "net_settings = pd.InitialNetworkSettings(n_agents = 300, n_connections = 10)"
   ]
  },
  {
   "cell_type": "code",
   "execution_count": 5,
   "metadata": {},
   "outputs": [
    {
     "name": "stdout",
     "output_type": "stream",
     "text": [
      "Using Simulation Options\n",
      "model             : DeGroot\n",
      "rng_seed          : 3249589472\n",
      "output_settings   : <pyseldon.seldoncore.OutputSettings object at 0x7fe8e014d1b0>\n",
      "model_settings    : <pyseldon.seldoncore.DeGrootSettings object at 0x7fe8e014d1b0>\n",
      "network_settings  : <pyseldon.seldoncore.InitialNetworkSettings object at 0x7fe8e4ee6930>\n",
      "Which can be changed using the SimulationOptions instance\n"
     ]
    }
   ],
   "source": [
    "sim_options = pd.SimulationOptions(model_string = \"DeGroot\", model_settings = degroot_settings, output_settings = opset, network_settings = net_settings)"
   ]
  },
  {
   "cell_type": "code",
   "execution_count": 6,
   "metadata": {},
   "outputs": [
    {
     "name": "stdout",
     "output_type": "stream",
     "text": [
      "Random seed: -1045377824\n",
      "[Model]\n",
      "    type DeGroot\n",
      "    max_iterations optional(20)\n",
      "    convergence_tol 0.001\n",
      "[Network]\n",
      "    n_agents 300\n",
      "    n_connections 10\n",
      "[Output]\n",
      "    n_output_agents  optional(1)\n",
      "    n_output_network optional(20)\n",
      "    print_progress true\n",
      "    output_initial true\n",
      "    start_output 1\n",
      "    start_numbering_from 0\n",
      "-----------------------------------------------------------------\n",
      "Starting simulation\n",
      "-----------------------------------------------------------------\n",
      "Iteration 1   iter_time = 00h 00m 00.000s \n",
      "Iteration 2   iter_time = 00h 00m 00.000s \n",
      "Iteration 3   iter_time = 00h 00m 00.000s \n",
      "Iteration 4   iter_time = 00h 00m 00.000s \n",
      "Iteration 5   iter_time = 00h 00m 00.000s \n",
      "Iteration 6   iter_time = 00h 00m 00.000s \n",
      "Iteration 7   iter_time = 00h 00m 00.000s \n",
      "Iteration 8   iter_time = 00h 00m 00.000s \n",
      "-----------------------------------------------------------------\n",
      "Finished after 8 iterations, total time = 00h 00m 00.001s\n",
      "=================================================================\n"
     ]
    }
   ],
   "source": [
    "pd.run_simulation(options = sim_options)"
   ]
  }
 ],
 "metadata": {
  "kernelspec": {
   "display_name": "Python 3",
   "language": "python",
   "name": "python3"
  },
  "language_info": {
   "codemirror_mode": {
    "name": "ipython",
    "version": 3
   },
   "file_extension": ".py",
   "mimetype": "text/x-python",
   "name": "python",
   "nbconvert_exporter": "python",
   "pygments_lexer": "ipython3",
   "version": "3.12.4"
  }
 },
 "nbformat": 4,
 "nbformat_minor": 2
}
